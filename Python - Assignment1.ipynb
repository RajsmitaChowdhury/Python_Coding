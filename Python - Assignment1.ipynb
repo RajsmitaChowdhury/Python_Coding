{
 "cells": [
  {
   "cell_type": "markdown",
   "metadata": {},
   "source": [
    "                                          Assignment 1"
   ]
  },
  {
   "cell_type": "markdown",
   "metadata": {},
   "source": [
    "#### Task 1 : Question 1: Install Jupyter notebook and run the first program and share the screenshot of the output."
   ]
  },
  {
   "cell_type": "code",
   "execution_count": null,
   "metadata": {},
   "outputs": [],
   "source": [
    "print(\"Hello!!!\")"
   ]
  },
  {
   "cell_type": "markdown",
   "metadata": {},
   "source": [
    "#### Task 1 : Question 2: Write a program which will find all such numbers which are divisible by 7 but are not a multiple of 5, between 2000 and 3200 (both included). The numbers obtained should be printed in a comma-separated sequence on a single line."
   ]
  },
  {
   "cell_type": "markdown",
   "metadata": {},
   "source": [
    "##### Solution 1:"
   ]
  },
  {
   "cell_type": "code",
   "execution_count": null,
   "metadata": {},
   "outputs": [],
   "source": [
    "\"\"\"Program to find a list of all numbers between 2000 and 3200 which are divisible by 7 but not a multiple of 5\"\"\"\n",
    "list1 = []\n",
    "for i in range(2000,3201):\n",
    "#Check if the number is divisible by 7 and not a multiple of 5\n",
    "    if i%7 == 0 and i%5 != 0:\n",
    "        list1.append(i) #Append the numbers to the empty list\n",
    "str1 = str(list1).strip('[]') #Strip/trim the beginning and end brackets\n",
    "print(str1)"
   ]
  },
  {
   "cell_type": "markdown",
   "metadata": {},
   "source": [
    "#### Task 1 : Question 3: Write a Python program to accept the user's first and last name and then getting them printed in the reverse order with a space between first name and last name."
   ]
  },
  {
   "cell_type": "code",
   "execution_count": null,
   "metadata": {},
   "outputs": [],
   "source": [
    "\"\"\"Program to take the user's first and last name and print them in a reverse order\"\"\"\n",
    "firstname = input(\"Enter your firstname: \") #Enter your firstname\n",
    "lastname = input(\"Enter your lastname: \") #Enter your lastname\n",
    "firstlist = list(firstname)\n",
    "firstname = firstlist[::-1] #Reverse the list containing firstname\n",
    "lastlist = list(lastname)\n",
    "lastname = lastlist[::-1] #Reverse the list containing lastname\n",
    "print(''.join(firstname),''.join(lastname)) #Convert the reversed lists into strings"
   ]
  },
  {
   "cell_type": "markdown",
   "metadata": {},
   "source": [
    "#### Task 1: Question 4: Write a Python program to find the volume of a sphere with diameter 12 cm."
   ]
  },
  {
   "cell_type": "code",
   "execution_count": null,
   "metadata": {},
   "outputs": [],
   "source": [
    "\"\"\"Program to find the volume of a cube\"\"\"\n",
    "d = 12\n",
    "radius = d/2 #Calculating the radius\n",
    "vol = (4/3)*3.142*(radius)**3 #Formula for volume of a cube\n",
    "print(\"The volume of the cube is {} cubic cm\".format(vol))"
   ]
  },
  {
   "cell_type": "markdown",
   "metadata": {},
   "source": [
    "#### Task 2: Question 1: Write a program which accepts a sequence of comma-separated numbers from console and generate a list."
   ]
  },
  {
   "cell_type": "markdown",
   "metadata": {},
   "source": [
    "###### Solution 1"
   ]
  },
  {
   "cell_type": "code",
   "execution_count": null,
   "metadata": {},
   "outputs": [],
   "source": [
    "\"\"\"Program to generate a list by taking comma-separate numbers as input\"\"\"\n",
    "numbers = input(\"Enter a comma-separated sequence of numbers: \")\n",
    "list_num = list(numbers)\n",
    "m = []\n",
    "for i in list_num:\n",
    "    if i == ',':\n",
    "        list_num.remove(i)  #Remove the commas \n",
    "for i in list_num:\n",
    "    m.append(int(i))  #Convert the string into numbers and append in a new list\n",
    "print(m)"
   ]
  },
  {
   "cell_type": "markdown",
   "metadata": {},
   "source": [
    "###### Solution 2"
   ]
  },
  {
   "cell_type": "code",
   "execution_count": null,
   "metadata": {},
   "outputs": [],
   "source": [
    "\"\"\"Program to generate a list by taking comma-separate numbers as input\"\"\"\n",
    "numbers = input(\"Enter a comma-separated sequence of numbers: \")\n",
    "list_num = list(numbers)\n",
    "a = list_num[::2] #Skip the commas and take numbers only\n",
    "b = []\n",
    "for i in a:\n",
    "    b.append(int(i))  #Convert the strings into numbers and append in a new list\n",
    "print(b)"
   ]
  },
  {
   "cell_type": "markdown",
   "metadata": {},
   "source": [
    "#### Task 2 : Question 2: Create the * pattern using nested for loop in Python."
   ]
  },
  {
   "cell_type": "code",
   "execution_count": null,
   "metadata": {},
   "outputs": [],
   "source": [
    "\"\"\"Program to create a pattern\"\"\"\n",
    "for i in range(10):  \n",
    "    if i < 6:\n",
    "        print('*'*i)  #Print the pattern by incrementing the numbers\n",
    "    else:\n",
    "        print('*'*(10-i)) #Print the pattern by reducing the numbers"
   ]
  },
  {
   "cell_type": "markdown",
   "metadata": {},
   "source": [
    "#### Task 2 : Question 3: Write a Python program to reverse a word after accepting the input from the user."
   ]
  },
  {
   "cell_type": "code",
   "execution_count": null,
   "metadata": {},
   "outputs": [],
   "source": [
    "\"\"\"Program to reverse a word\"\"\"\n",
    "word = input(\"Enter a word: \")\n",
    "word1 = list(word)\n",
    "word1 = word[::-1]  #Reverse the word \n",
    "print(''.join(word1))"
   ]
  },
  {
   "cell_type": "markdown",
   "metadata": {},
   "source": [
    "#### Task 2 : Question 4: Write a Python Program to print the given string in the format specified in the sample output."
   ]
  },
  {
   "cell_type": "code",
   "execution_count": null,
   "metadata": {},
   "outputs": [],
   "source": [
    "\"\"\"Program to print a given string in a particular format\"\"\"\n",
    "givenstring = \"WE, THE PEOPLE OF INDIA, having solemnly resolved to constitute India into a SOVEREIGN, SOCIALIST, SECULAR, DEMOCRATIC REPUBLIC and to secure to all its citizens\"\n",
    "print(\"WE, THE PEOPLE OF INDIA,\\n\\thaving solemnly resolved to constitute India into a SOVEREIGN, ! \\n\\t\\t SOCIALIST, SECULAR, DEMOCRATIC REPUBLIC \\n\\t\\t  and to secure to all its citizens\")"
   ]
  }
 ],
 "metadata": {
  "kernelspec": {
   "display_name": "Python 3",
   "language": "python",
   "name": "python3"
  },
  "language_info": {
   "codemirror_mode": {
    "name": "ipython",
    "version": 3
   },
   "file_extension": ".py",
   "mimetype": "text/x-python",
   "name": "python",
   "nbconvert_exporter": "python",
   "pygments_lexer": "ipython3",
   "version": "3.7.6"
  }
 },
 "nbformat": 4,
 "nbformat_minor": 4
}
